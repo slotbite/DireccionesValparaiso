{
 "cells": [
  {
   "cell_type": "markdown",
   "metadata": {},
   "source": [
    "# Introducción\n",
    "\n",
    "El presente documento resume un análisis comparativo respecto de las direcciones de productos, provistas por el area de GIS (XYGO) y el departamento de ventas Open Smart Flex (OSF).\n",
    "\n",
    "- El objetivo es identificar los productos(direcciones) con mayor diferencia entre las direcciones XYGO - OSF, de manera que puedan ser revisadas por las áreas funcionales.\n",
    "\n",
    "Los datos provienen de una base de datos ORACLE.\n",
    " -  Oracle Database 11g Enterprise Edition Release 11.2.0.4.0 - 64bit Production.\n",
    " \n",
    "### Descripcion de los datos: \n",
    "\n",
    "|Descripción      | Dato     |  \n",
    "|:----------------|---------:| \n",
    "|Identificador del producto|XYGO_PRODUCT_ID|   \n",
    "|La dirección registrada en el proceso de venta (OSF)|OSF_ADDRESS|    \n",
    "|La dirección entregada por área GIS (hipótesis de que XYGO sea la CORRECTA) |XYGO_ADDRESS|\n",
    "|Nombre de calle entregado por área GIS |XYGO_WAY_NAME | \n",
    "|El N° de calle entregado por área GIS |XYGO_WAY_NUMBER | \n",
    "|Latitud |LAT| \n",
    "|Longitud |LON| \n",
    "|Variable binaria 0,1|SCORE_A| \n",
    "|Variable binaria 0,1|SCORE_B|  \n",
    "\n",
    "### Extraccion de campos desde SQL Server\n",
    "```  \n",
    "SELECT      \n",
    "\t\tXYGO_PRODUCT_ID,   \n",
    "\t\tLAT,\n",
    "\t\tLON,\n",
    "\t\tXYGO_WAY_NUMBER,\n",
    "\t\tXYGO_WAY_NAME, \n",
    "\t\tXYGO_ADDRESS, \t\t\t\t\t\t-- dirección sistema A (hipótesis de que XYGO sea la CORRECTA)\n",
    "\t\tAB_ADDRESS.ADDRESS \"OSF_ADDRESS\", \t-- dirección sistema B (OSF) \n",
    "CASE WHEN trim(XYGO_ADDRESS) = trim(AB_ADDRESS.ADDRESS) THEN 1 ELSE 0 end SCORE_A,\n",
    "CASE WHEN AB_ADDRESS.ADDRESS LIKE '%'||XYGO_WAY_NUMBER||'%' THEN 1 ELSE 0 end SCORE_B  \n",
    "FROM SFINTERFAZ.XYGO_DIRECCIONES\n",
    "JOIN CHILQUIN.PR_PRODUCT@SFAA ON PR_PRODUCT.PRODUCT_ID = XYGO_DIRECCIONES.XYGO_PRODUCT_ID\n",
    "JOIN CHILQUIN.AB_ADDRESS@SFAA ON AB_ADDRESS.ADDRESS_ID = PR_PRODUCT.ADDRESS_ID\n",
    "```\n"
   ]
  },
  {
   "cell_type": "code",
   "execution_count": 1,
   "metadata": {},
   "outputs": [
    {
     "name": "stderr",
     "output_type": "stream",
     "text": [
      "\n",
      "Attaching package: 'dplyr'\n",
      "\n",
      "The following objects are masked from 'package:stats':\n",
      "\n",
      "    filter, lag\n",
      "\n",
      "The following objects are masked from 'package:base':\n",
      "\n",
      "    intersect, setdiff, setequal, union\n",
      "\n",
      "\n",
      "Attaching package: 'readr'\n",
      "\n",
      "The following object is masked from 'package:scales':\n",
      "\n",
      "    col_factor\n",
      "\n",
      "------------------------------------------------------------------------------\n",
      "You have loaded plyr after dplyr - this is likely to cause problems.\n",
      "If you need functions from both plyr and dplyr, please load plyr first, then dplyr:\n",
      "library(plyr); library(dplyr)\n",
      "------------------------------------------------------------------------------\n",
      "\n",
      "Attaching package: 'plyr'\n",
      "\n",
      "The following objects are masked from 'package:dplyr':\n",
      "\n",
      "    arrange, count, desc, failwith, id, mutate, rename, summarise,\n",
      "    summarize\n",
      "\n"
     ]
    }
   ],
   "source": [
    "library(sparklyr)\n",
    "library(dplyr)  \n",
    "library(ggplot2)\n",
    "library(knitr)#tablas\n",
    "library(ggplot2)\n",
    "library(scales) # funcion de %\n",
    "library(readr)\n",
    "library(sp) \n",
    "library(leaflet)\n",
    "library(plyr)"
   ]
  },
  {
   "cell_type": "markdown",
   "metadata": {},
   "source": [
    "# Conexión a Spark R"
   ]
  },
  {
   "cell_type": "code",
   "execution_count": 2,
   "metadata": {},
   "outputs": [],
   "source": [
    "rm(list=ls())  \n",
    "sc <- spark_connect( master = \"local\" ) "
   ]
  },
  {
   "cell_type": "markdown",
   "metadata": {},
   "source": [
    "# Carga de datos csv"
   ]
  },
  {
   "cell_type": "code",
   "execution_count": 3,
   "metadata": {},
   "outputs": [],
   "source": [
    "direcciones = spark_read_csv(sc, name = \"direcciones\", path = \"XYGO_DIRECCIONES.csv\" ,delimiter = \";\")"
   ]
  },
  {
   "cell_type": "code",
   "execution_count": 4,
   "metadata": {},
   "outputs": [
    {
     "data": {
      "text/plain": [
       "# Source:   lazy query [?? x 9]\n",
       "# Database: spark_connection\n",
       "  XYGO_PRODUCT_ID LAT   LON   XYGO_WAY_NUMBER XYGO_WAY_NAME XYGO_ADDRESS\n",
       "            <dbl> <chr> <chr>           <dbl> <chr>         <chr>       \n",
       "1            101. -33,~ -71,~             167 AVENIDA DEL ~ AVENIDA DEL~\n",
       "2            103. -33,~ -71,~              84 GENERAL MACK~ GENERAL MAC~\n",
       "3            104. -33,~ -71,~             450 AVENIDA BORI~ AVENIDA BOR~\n",
       "4            104. -33,~ -71,~             100 AVENIDA BORI~ AVENIDA BOR~\n",
       "5            104. -33,~ -71,~              34 AVENIDA BORI~ AVENIDA BOR~\n",
       "6            104. -33,~ -71,~             476 AVENIDA BORI~ AVENIDA BOR~\n",
       "# ... with 3 more variables: OSF_ADDRESS <chr>, SCORE_A <int>, SCORE_B <int>"
      ]
     },
     "metadata": {},
     "output_type": "display_data"
    }
   ],
   "source": [
    "head(direcciones)"
   ]
  },
  {
   "cell_type": "markdown",
   "metadata": {},
   "source": [
    "# Normalizacion de direcciones XYGO Y OSF\n",
    "Como se menciona la normalizacion de palabras involucra remover espacios antes y despues de un texto  , los acentos , caracteres especiales , ademas de convertir a mayuscula o minuscula todas la palabras para minimizar la diferencia al momento de comparar. <br>\n",
    "\n",
    "Se crearan nuevas columnas con las direcciones normalizadas agregandoles el sufijo _CLEAN.\n"
   ]
  },
  {
   "cell_type": "code",
   "execution_count": 5,
   "metadata": {},
   "outputs": [],
   "source": [
    "## Cargamos los datos en memoria R\n",
    "data = direcciones %>% collect()\n",
    "  \n",
    "## Removemos\n",
    "## Dobles espacios  \n",
    "data$XYGO_ADDRESS_CLEAN     =  gsub(\"[[:punct:]]\", \" \",  data$XYGO_ADDRESS)\n",
    "data$XYGO_WAY_NAME_CLEAN    =  gsub(\"[[:punct:]]\", \" \",  data$XYGO_WAY_NAME)\n",
    "data$OSF_ADDRESS_CLEAN            =  gsub(\"[[:punct:]]\", \" \",  data$OSF_ADDRESS)\n",
    "\n",
    "## Caracteres no alfanumericos ;\n",
    "data$XYGO_ADDRESS_CLEAN     =  gsub(\"[^[:alnum:]///' ]\", \" \", data$XYGO_ADDRESS_CLEAN)\n",
    "data$XYGO_WAY_NAME_CLEAN    =  gsub(\"[^[:alnum:]///' ]\", \" \", data$XYGO_WAY_NAME_CLEAN)\n",
    "data$OSF_ADDRESS_CLEAN            =  gsub(\"[^[:alnum:]///' ]\", \" \", data$OSF_ADDRESS_CLEAN)\n",
    "\n",
    "## Caracteres especiales\n",
    "data$XYGO_ADDRESS_CLEAN     =  gsub(\"[^[:alnum:]///' ]+^ *|(?<= ) | *$\", \"\", data$XYGO_ADDRESS_CLEAN, perl = TRUE)\n",
    "data$XYGO_WAY_NAME_CLEAN    =  gsub(\"[^[:alnum:]///' ]+^ *|(?<= ) | *$\", \"\", data$XYGO_WAY_NAME_CLEAN, perl = TRUE)\n",
    "data$OSF_ADDRESS_CLEAN      =  gsub(\"[^[:alnum:]///' ]+^ *|(?<= ) | *$\", \"\", data$OSF_ADDRESS_CLEAN, perl = TRUE)"
   ]
  },
  {
   "cell_type": "code",
   "execution_count": 7,
   "metadata": {},
   "outputs": [
    {
     "data": {
      "text/html": [
       "<table>\n",
       "<thead><tr><th scope=col>XYGO_PRODUCT_ID</th><th scope=col>LAT</th><th scope=col>LON</th><th scope=col>XYGO_WAY_NUMBER</th><th scope=col>XYGO_WAY_NAME</th><th scope=col>XYGO_ADDRESS</th><th scope=col>OSF_ADDRESS</th><th scope=col>SCORE_A</th><th scope=col>SCORE_B</th><th scope=col>XYGO_ADDRESS_CLEAN</th><th scope=col>XYGO_WAY_NAME_CLEAN</th><th scope=col>OSF_ADDRESS_CLEAN</th></tr></thead>\n",
       "<tbody>\n",
       "\t<tr><td>100.750                    </td><td>-33,03353277               </td><td>-71,64074554               </td><td>167                        </td><td>AVENIDA DEL PACIFICO       </td><td>AVENIDA DEL PACIFICO 167B  </td><td>AV PACIFICO 167 ESC        </td><td>0                          </td><td>1                          </td><td>AVENIDA DEL PACIFICO 167B  </td><td>AVENIDA DEL PACIFICO       </td><td>AV PACIFICO 167 ESC        </td></tr>\n",
       "\t<tr><td>103.051                    </td><td>-33,04633926               </td><td>-71,6245623                </td><td> 84                        </td><td>GENERAL MACKENNA           </td><td>GENERAL MACKENNA 84        </td><td>PASAJE ECUADOR N° 69 CASA 3</td><td>0                          </td><td>0                          </td><td>GENERAL MACKENNA 84        </td><td>GENERAL MACKENNA           </td><td>PASAJE ECUADOR N 69 CASA 3 </td></tr>\n",
       "\t<tr><td>103.569                    </td><td>-33,04798053               </td><td>-71,56614281               </td><td>450                        </td><td>AVENIDA BORINQUEN          </td><td>AVENIDA BORINQUEN 450      </td><td>BORINQUEN 450 D/504        </td><td>0                          </td><td>1                          </td><td>AVENIDA BORINQUEN 450      </td><td>AVENIDA BORINQUEN          </td><td>BORINQUEN 450 D 504        </td></tr>\n",
       "\t<tr><td>103.598                    </td><td>-33,04810073               </td><td>-71,5653579                </td><td>100                        </td><td>AVENIDA BORINQUEN          </td><td>AVENIDA BORINQUEN 100      </td><td>BORINQUEN 100 B/3 D/303    </td><td>0                          </td><td>1                          </td><td>AVENIDA BORINQUEN 100      </td><td>AVENIDA BORINQUEN          </td><td>BORINQUEN 100 B 3 D 303    </td></tr>\n",
       "\t<tr><td>103.628                    </td><td>-33,04745301               </td><td>-71,56550569               </td><td> 34                        </td><td>AVENIDA BORINQUEN          </td><td>AVENIDA BORINQUEN 34       </td><td>BORINQUEN 34 B/5 D/101     </td><td>0                          </td><td>1                          </td><td>AVENIDA BORINQUEN 34       </td><td>AVENIDA BORINQUEN          </td><td>BORINQUEN 34 B 5 D 101     </td></tr>\n",
       "\t<tr><td>103.658                    </td><td>-33,04783461               </td><td>-71,56565327               </td><td>476                        </td><td>AVENIDA BORINQUEN          </td><td>AVENIDA BORINQUEN 476      </td><td>BORINQUEN 476 D/402        </td><td>0                          </td><td>1                          </td><td>AVENIDA BORINQUEN 476      </td><td>AVENIDA BORINQUEN          </td><td>BORINQUEN 476 D 402        </td></tr>\n",
       "</tbody>\n",
       "</table>\n"
      ],
      "text/latex": [
       "\\begin{tabular}{r|llllllllllll}\n",
       " XYGO\\_PRODUCT\\_ID & LAT & LON & XYGO\\_WAY\\_NUMBER & XYGO\\_WAY\\_NAME & XYGO\\_ADDRESS & OSF\\_ADDRESS & SCORE\\_A & SCORE\\_B & XYGO\\_ADDRESS\\_CLEAN & XYGO\\_WAY\\_NAME\\_CLEAN & OSF\\_ADDRESS\\_CLEAN\\\\\n",
       "\\hline\n",
       "\t 100.750                     & -33,03353277                & -71,64074554                & 167                         & AVENIDA DEL PACIFICO        & AVENIDA DEL PACIFICO 167B   & AV PACIFICO 167 ESC         & 0                           & 1                           & AVENIDA DEL PACIFICO 167B   & AVENIDA DEL PACIFICO        & AV PACIFICO 167 ESC        \\\\\n",
       "\t 103.051                     & -33,04633926                & -71,6245623                 &  84                         & GENERAL MACKENNA            & GENERAL MACKENNA 84         & PASAJE ECUADOR N° 69 CASA 3 & 0                           & 0                           & GENERAL MACKENNA 84         & GENERAL MACKENNA            & PASAJE ECUADOR N 69 CASA 3 \\\\\n",
       "\t 103.569                     & -33,04798053                & -71,56614281                & 450                         & AVENIDA BORINQUEN           & AVENIDA BORINQUEN 450       & BORINQUEN 450 D/504         & 0                           & 1                           & AVENIDA BORINQUEN 450       & AVENIDA BORINQUEN           & BORINQUEN 450 D 504        \\\\\n",
       "\t 103.598                     & -33,04810073                & -71,5653579                 & 100                         & AVENIDA BORINQUEN           & AVENIDA BORINQUEN 100       & BORINQUEN 100 B/3 D/303     & 0                           & 1                           & AVENIDA BORINQUEN 100       & AVENIDA BORINQUEN           & BORINQUEN 100 B 3 D 303    \\\\\n",
       "\t 103.628                     & -33,04745301                & -71,56550569                &  34                         & AVENIDA BORINQUEN           & AVENIDA BORINQUEN 34        & BORINQUEN 34 B/5 D/101      & 0                           & 1                           & AVENIDA BORINQUEN 34        & AVENIDA BORINQUEN           & BORINQUEN 34 B 5 D 101     \\\\\n",
       "\t 103.658                     & -33,04783461                & -71,56565327                & 476                         & AVENIDA BORINQUEN           & AVENIDA BORINQUEN 476       & BORINQUEN 476 D/402         & 0                           & 1                           & AVENIDA BORINQUEN 476       & AVENIDA BORINQUEN           & BORINQUEN 476 D 402        \\\\\n",
       "\\end{tabular}\n"
      ],
      "text/markdown": [
       "\n",
       "XYGO_PRODUCT_ID | LAT | LON | XYGO_WAY_NUMBER | XYGO_WAY_NAME | XYGO_ADDRESS | OSF_ADDRESS | SCORE_A | SCORE_B | XYGO_ADDRESS_CLEAN | XYGO_WAY_NAME_CLEAN | OSF_ADDRESS_CLEAN | \n",
       "|---|---|---|---|---|---|\n",
       "| 100.750                     | -33,03353277                | -71,64074554                | 167                         | AVENIDA DEL PACIFICO        | AVENIDA DEL PACIFICO 167B   | AV PACIFICO 167 ESC         | 0                           | 1                           | AVENIDA DEL PACIFICO 167B   | AVENIDA DEL PACIFICO        | AV PACIFICO 167 ESC         | \n",
       "| 103.051                     | -33,04633926                | -71,6245623                 |  84                         | GENERAL MACKENNA            | GENERAL MACKENNA 84         | PASAJE ECUADOR N° 69 CASA 3 | 0                           | 0                           | GENERAL MACKENNA 84         | GENERAL MACKENNA            | PASAJE ECUADOR N 69 CASA 3  | \n",
       "| 103.569                     | -33,04798053                | -71,56614281                | 450                         | AVENIDA BORINQUEN           | AVENIDA BORINQUEN 450       | BORINQUEN 450 D/504         | 0                           | 1                           | AVENIDA BORINQUEN 450       | AVENIDA BORINQUEN           | BORINQUEN 450 D 504         | \n",
       "| 103.598                     | -33,04810073                | -71,5653579                 | 100                         | AVENIDA BORINQUEN           | AVENIDA BORINQUEN 100       | BORINQUEN 100 B/3 D/303     | 0                           | 1                           | AVENIDA BORINQUEN 100       | AVENIDA BORINQUEN           | BORINQUEN 100 B 3 D 303     | \n",
       "| 103.628                     | -33,04745301                | -71,56550569                |  34                         | AVENIDA BORINQUEN           | AVENIDA BORINQUEN 34        | BORINQUEN 34 B/5 D/101      | 0                           | 1                           | AVENIDA BORINQUEN 34        | AVENIDA BORINQUEN           | BORINQUEN 34 B 5 D 101      | \n",
       "| 103.658                     | -33,04783461                | -71,56565327                | 476                         | AVENIDA BORINQUEN           | AVENIDA BORINQUEN 476       | BORINQUEN 476 D/402         | 0                           | 1                           | AVENIDA BORINQUEN 476       | AVENIDA BORINQUEN           | BORINQUEN 476 D 402         | \n",
       "\n",
       "\n"
      ],
      "text/plain": [
       "  XYGO_PRODUCT_ID LAT          LON          XYGO_WAY_NUMBER\n",
       "1 100.750         -33,03353277 -71,64074554 167            \n",
       "2 103.051         -33,04633926 -71,6245623   84            \n",
       "3 103.569         -33,04798053 -71,56614281 450            \n",
       "4 103.598         -33,04810073 -71,5653579  100            \n",
       "5 103.628         -33,04745301 -71,56550569  34            \n",
       "6 103.658         -33,04783461 -71,56565327 476            \n",
       "  XYGO_WAY_NAME        XYGO_ADDRESS              OSF_ADDRESS                \n",
       "1 AVENIDA DEL PACIFICO AVENIDA DEL PACIFICO 167B AV PACIFICO 167 ESC        \n",
       "2 GENERAL MACKENNA     GENERAL MACKENNA 84       PASAJE ECUADOR N° 69 CASA 3\n",
       "3 AVENIDA BORINQUEN    AVENIDA BORINQUEN 450     BORINQUEN 450 D/504        \n",
       "4 AVENIDA BORINQUEN    AVENIDA BORINQUEN 100     BORINQUEN 100 B/3 D/303    \n",
       "5 AVENIDA BORINQUEN    AVENIDA BORINQUEN 34      BORINQUEN 34 B/5 D/101     \n",
       "6 AVENIDA BORINQUEN    AVENIDA BORINQUEN 476     BORINQUEN 476 D/402        \n",
       "  SCORE_A SCORE_B XYGO_ADDRESS_CLEAN        XYGO_WAY_NAME_CLEAN \n",
       "1 0       1       AVENIDA DEL PACIFICO 167B AVENIDA DEL PACIFICO\n",
       "2 0       0       GENERAL MACKENNA 84       GENERAL MACKENNA    \n",
       "3 0       1       AVENIDA BORINQUEN 450     AVENIDA BORINQUEN   \n",
       "4 0       1       AVENIDA BORINQUEN 100     AVENIDA BORINQUEN   \n",
       "5 0       1       AVENIDA BORINQUEN 34      AVENIDA BORINQUEN   \n",
       "6 0       1       AVENIDA BORINQUEN 476     AVENIDA BORINQUEN   \n",
       "  OSF_ADDRESS_CLEAN         \n",
       "1 AV PACIFICO 167 ESC       \n",
       "2 PASAJE ECUADOR N 69 CASA 3\n",
       "3 BORINQUEN 450 D 504       \n",
       "4 BORINQUEN 100 B 3 D 303   \n",
       "5 BORINQUEN 34 B 5 D 101    \n",
       "6 BORINQUEN 476 D 402       "
      ]
     },
     "metadata": {},
     "output_type": "display_data"
    }
   ],
   "source": [
    "head(data)"
   ]
  },
  {
   "cell_type": "markdown",
   "metadata": {},
   "source": [
    "# Creación del diccionario de palabras\n",
    "- Cada columna dirección se convierte a un vector de string.\n",
    "- Luego se extraen las 300 palabras más repetidas para analizarlas por separado , el paquete qdap automatiza este paso.\n",
    "- Se genera un diccionario .csv con las palabras finales.\n",
    "- Se Limpian las columnas _CLEAN con el diccionario."
   ]
  },
  {
   "cell_type": "code",
   "execution_count": 8,
   "metadata": {},
   "outputs": [],
   "source": [
    "vector_string = paste( toString(data$XYGO_WAY_NAME_CLEAN) ,\n",
    "                       toString(data$XYGO_ADDRESS_CLEAN)  ,\n",
    "                       toString(data$OSF_ADDRESS_CLEAN), \n",
    "                       sep=\",\")"
   ]
  },
  {
   "cell_type": "code",
   "execution_count": 10,
   "metadata": {},
   "outputs": [
    {
     "ename": "ERROR",
     "evalue": "Error in library(qdap): there is no package called 'qdap'\n",
     "output_type": "error",
     "traceback": [
      "Error in library(qdap): there is no package called 'qdap'\nTraceback:\n",
      "1. library(qdap)",
      "2. stop(txt, domain = NA)"
     ]
    }
   ],
   "source": [
    "library(qdap)\n",
    "top_words <- freq_terms( vector_string , 300 ) "
   ]
  },
  {
   "cell_type": "code",
   "execution_count": null,
   "metadata": {},
   "outputs": [],
   "source": []
  },
  {
   "cell_type": "code",
   "execution_count": null,
   "metadata": {},
   "outputs": [],
   "source": []
  },
  {
   "cell_type": "code",
   "execution_count": null,
   "metadata": {},
   "outputs": [],
   "source": []
  },
  {
   "cell_type": "code",
   "execution_count": null,
   "metadata": {},
   "outputs": [],
   "source": []
  },
  {
   "cell_type": "code",
   "execution_count": null,
   "metadata": {},
   "outputs": [],
   "source": []
  },
  {
   "cell_type": "code",
   "execution_count": null,
   "metadata": {},
   "outputs": [],
   "source": []
  },
  {
   "cell_type": "code",
   "execution_count": null,
   "metadata": {},
   "outputs": [],
   "source": []
  },
  {
   "cell_type": "code",
   "execution_count": null,
   "metadata": {},
   "outputs": [],
   "source": []
  },
  {
   "cell_type": "code",
   "execution_count": null,
   "metadata": {},
   "outputs": [],
   "source": []
  },
  {
   "cell_type": "code",
   "execution_count": null,
   "metadata": {},
   "outputs": [],
   "source": []
  },
  {
   "cell_type": "code",
   "execution_count": null,
   "metadata": {},
   "outputs": [],
   "source": []
  },
  {
   "cell_type": "code",
   "execution_count": null,
   "metadata": {},
   "outputs": [],
   "source": []
  },
  {
   "cell_type": "code",
   "execution_count": null,
   "metadata": {},
   "outputs": [],
   "source": []
  },
  {
   "cell_type": "code",
   "execution_count": null,
   "metadata": {},
   "outputs": [],
   "source": []
  }
 ],
 "metadata": {
  "kernelspec": {
   "display_name": "R",
   "language": "R",
   "name": "ir"
  },
  "language_info": {
   "codemirror_mode": "r",
   "file_extension": ".r",
   "mimetype": "text/x-r-source",
   "name": "R",
   "pygments_lexer": "r",
   "version": "3.5.1"
  }
 },
 "nbformat": 4,
 "nbformat_minor": 2
}
